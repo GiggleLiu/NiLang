{
 "metadata": {
  "language_info": {
   "codemirror_mode": {
    "name": "ipython",
    "version": 3
   },
   "file_extension": ".py",
   "mimetype": "text/x-python",
   "name": "python",
   "nbconvert_exporter": "python",
   "pygments_lexer": "ipython3",
   "version": "3.6.8-final"
  },
  "orig_nbformat": 2,
  "kernelspec": {
   "name": "julia-1.5",
   "display_name": "Julia 1.5.0"
  }
 },
 "nbformat": 4,
 "nbformat_minor": 2,
 "cells": [
  {
   "cell_type": "code",
   "execution_count": null,
   "metadata": {
    "tags": []
   },
   "outputs": [],
   "source": [
    "using Statistics\n",
    "using NiLang\n",
    "using BenchmarkTools\n"
   ]
  },
  {
   "cell_type": "code",
   "execution_count": null,
   "metadata": {},
   "outputs": [],
   "source": [
    "#提取日线沪深300指数收盘价\n",
    "a= readlines(\"F:\\\\我的坚果云\\\\julia\\\\策略微分\\\\data.txt\");\n",
    "b=parse.(Float64,a);\n",
    "b2=copy(b);\n"
   ]
  },
  {
   "cell_type": "code",
   "execution_count": 18,
   "metadata": {
    "tags": []
   },
   "outputs": [],
   "source": [
    "#EMA权重\n",
    "bili=0.0952;\n",
    "n=length(b);\n",
    "ma=zeros(n,1);\n",
    "ma[1]=b[1];\n",
    "pos=zeros(n,1);\n",
    "#单位净值\n",
    "jinzhi=ones(n,1);\n",
    "spread=zeros(n,1);\n",
    "ret=b[2:end]./b[1:end-1].-1;\n",
    "for i =2:n\n",
    "    if pos[i-1]>0\n",
    "        #如果信号为正,做多\n",
    "        jinzhi[i]=jinzhi[i-1]*(b[i]/b[i-1]);\n",
    "    elseif pos[i-1]<0\n",
    "        #如果信号为负,做空\n",
    "        jinzhi[i]=jinzhi[i-1]*(2-b[i]/b[i-1]);\n",
    "    else\n",
    "        #如果信号为0,保持不变\n",
    "        jinzhi[i]=jinzhi[i-1];\n",
    "    end\n",
    "    #计算EMA\n",
    "    ma[i]=b[i]*bili+(1-bili)*ma[i-1];\n",
    "    spread[i]=b[i]-ma[i];\n",
    "    pos[i] = -tanh(ma[i]-b[i]);\n",
    "\n",
    "end\n"
   ]
  },
  {
   "cell_type": "code",
   "execution_count": 31,
   "metadata": {},
   "outputs": [
    {
     "output_type": "execute_result",
     "data": {
      "text/plain": "0.034088594834217625"
     },
     "metadata": {},
     "execution_count": 31
    }
   ],
   "source": [
    "#计算t期的spread和t+1期股指return的皮尔逊相关性\n",
    "cor(spread[1:end-1],ret)"
   ]
  },
  {
   "cell_type": "code",
   "execution_count": 24,
   "metadata": {},
   "outputs": [],
   "source": [
    "@i function jin(out::T,b::AbstractVector{T},ma::AbstractVector{T},jinzhi::AbstractVector{T},spread::AbstractVector{T},bili::T) where T\n",
    "    @routine begin\n",
    "        for i =2:length(b)\n",
    "\n",
    "            if (spread[i-1]!=0, ~)\n",
    "                @routine begin\n",
    "                    @zeros T anc1 \n",
    "                    anc1 += b[i] / b[i-1]\n",
    "                    anc1 -= 1.0\n",
    "                end\n",
    "\n",
    "                jinzhi[i] += anc1\n",
    "                ~@routine\n",
    "            end\n",
    "\n",
    "            ma[i] += b[i] * bili\n",
    "            bili -= 1.0\n",
    "            ma[i] -= bili * ma[i-1]\n",
    "            bili += 1.0\n",
    "\n",
    "\n",
    "            # the relaxed version\n",
    "            ma[i] -= b[i]\n",
    "            spread[i] -= ma[i]\n",
    "            ma[i] += b[i]\n",
    "        end\n",
    "        #计算t期的spread和t+1期股指return的皮尔逊相关性\n",
    "        @zeros T var1 varsum1 mean1 sum1 std1\n",
    "        NiLang.i_var_mean_sum(var1, varsum1, mean1, sum1, jinzhi[2:end])\n",
    "        std1 += sqrt(var1)\n",
    "        @zeros T var2 varsum2 mean2 sum2 std2\n",
    "        NiLang.i_var_mean_sum(var2, varsum2, mean2, sum2, spread[1:end-1])\n",
    "        std2 += sqrt(var2)\n",
    "        @zeros T anc3 anc4 anc5 anc6 anc7\n",
    "        #计算协方差矩阵\n",
    "        for i=2:length(b)\n",
    "            jinzhi[i] -= mean1\n",
    "            anc3 +=jinzhi[i]\n",
    "            jinzhi[i] +=mean1\n",
    "            spread[i-1] -=mean2\n",
    "            anc4 +=spread[i-1]\n",
    "            spread[i-1] +=mean2\n",
    "            anc5 += anc3*anc4     \n",
    "        end\n",
    "        anc6+=std1*std2\n",
    "        anc7+=anc6*(length(jinzhi)-2)\n",
    "    end\n",
    "    #计算相关性\n",
    "    out += anc5/anc7 \n",
    "    ~@routine\n",
    "end\n",
    "    "
   ]
  },
  {
   "cell_type": "code",
   "execution_count": 25,
   "metadata": {},
   "outputs": [
    {
     "output_type": "execute_result",
     "data": {
      "text/plain": "true"
     },
     "metadata": {},
     "execution_count": 25
    }
   ],
   "source": [
    "bili=0.0952;\n",
    "n=length(b);\n",
    "ma=zeros(n);\n",
    "ma[1]=b[1];\n",
    "jinzhi=zeros(n);\n",
    "spread=zeros(n);\n",
    "out=0.0;\n",
    "# check the reversibility\n",
    "check_inv(jin, (out,b,ma,jinzhi,spread,bili))\n"
   ]
  },
  {
   "cell_type": "code",
   "execution_count": 26,
   "metadata": {},
   "outputs": [
    {
     "output_type": "error",
     "ename": "InvertibilityError",
     "evalue": "InvertibilityError(\"x (=1.573760499695709e-8) ≂̸ val (=0.0)\")",
     "traceback": [
      "InvertibilityError(\"x (=1.573760499695709e-8) ≂̸ val (=0.0)\")",
      "",
      "Stacktrace:",
      " [1] deanc at C:\\Users\\Administrator\\.julia\\packages\\NiLangCore\\J2jan\\src\\vars.jl:6 [inlined]",
      " [2] (::Inv{typeof(jin)})(::Float64, ::Array{Float64,1}, ::Array{Float64,1}, ::Array{Float64,1}, ::Array{Float64,1}, ::Float64) at .\\In[24]:32",
      " [3] ng_single(::Type{Float64}, ::Function, ::Tuple{Float64,Array{Float64,1},Array{Float64,1},Array{Float64,1},Array{Float64,1},Float64}, ::Base.Iterators.Pairs{Union{},Union{},Tuple{},NamedTuple{(),Tuple{}}}, ::Int64, ::Nothing, ::Int64, ::Float64) at C:\\Users\\Administrator\\.julia\\packages\\NiLang\\ugRIY\\src\\autodiff\\checks.jl:43",
      " [4] ng(::Function, ::Tuple{Float64,Array{Float64,1},Array{Float64,1},Array{Float64,1},Array{Float64,1},Float64}, ::Int64; iloss::Int64, δ::Float64, kwargs::Base.Iterators.Pairs{Union{},Union{},Tuple{},NamedTuple{(),Tuple{}}}) at C:\\Users\\Administrator\\.julia\\packages\\NiLang\\ugRIY\\src\\autodiff\\checks.jl:83",
      " [5] #27 at C:\\Users\\Administrator\\.julia\\packages\\NiLang\\ugRIY\\src\\autodiff\\checks.jl:95 [inlined]",
      " [6] iterate at .\\generator.jl:47 [inlined]",
      " [7] _collect(::UnitRange{Int64}, ::Base.Generator{UnitRange{Int64},NiLang.AD.var\"#27#28\"{Int64,Base.Iterators.Pairs{Union{},Union{},Tuple{},NamedTuple{(),Tuple{}}},typeof(jin),Tuple{Float64,Array{Float64,1},Array{Float64,1},Array{Float64,1},Array{Float64,1},Float64}}}, ::Base.EltypeUnknown, ::Base.HasShape{1}) at .\\array.jl:699",
      " [8] collect_similar(::UnitRange{Int64}, ::Base.Generator{UnitRange{Int64},NiLang.AD.var\"#27#28\"{Int64,Base.Iterators.Pairs{Union{},Union{},Tuple{},NamedTuple{(),Tuple{}}},typeof(jin),Tuple{Float64,Array{Float64,1},Array{Float64,1},Array{Float64,1},Array{Float64,1},Float64}}}) at .\\array.jl:628",
      " [9] map(::Function, ::UnitRange{Int64}) at .\\abstractarray.jl:2162",
      " [10] #gradient_numeric#26 at C:\\Users\\Administrator\\.julia\\packages\\NiLang\\ugRIY\\src\\autodiff\\checks.jl:93 [inlined]",
      " [11] check_grad(::Function, ::Tuple{Float64,Array{Float64,1},Array{Float64,1},Array{Float64,1},Array{Float64,1},Float64}; atol::Float64, verbose::Bool, iloss::Int64, kwargs::Base.Iterators.Pairs{Union{},Union{},Tuple{},NamedTuple{(),Tuple{}}}) at C:\\Users\\Administrator\\.julia\\packages\\NiLang\\ugRIY\\src\\autodiff\\checks.jl:110",
      " [12] top-level scope at In[26]:1"
     ]
    }
   ],
   "source": [
    "# check the gradients with numeric gradients\n",
    "NiLang.AD.check_grad(jin, (out,b,ma,jinzhi,spread,bili); iloss=1)"
   ]
  },
  {
   "cell_type": "code",
   "execution_count": null,
   "metadata": {},
   "outputs": [],
   "source": [
    "out,b,ma,jinzhi,spread,bili=jin(out,b,ma,jinzhi,spread,bili)\n"
   ]
  },
  {
   "cell_type": "code",
   "execution_count": null,
   "metadata": {},
   "outputs": [],
   "source": [
    "out,b,ma,jinzhi,spread,bili=(~jin)(out,b,ma,jinzhi,spread,bili)"
   ]
  },
  {
   "cell_type": "code",
   "execution_count": null,
   "metadata": {},
   "outputs": [],
   "source": [
    "gout,gb,gma,gjinzhi,gspread,gbili= NiLang.AD.gradient(Val(1), jin, (out,b,ma,jinzhi,spread,bili))"
   ]
  }
 ]
}