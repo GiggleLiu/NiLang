{
 "metadata": {
  "language_info": {
   "codemirror_mode": {
    "name": "ipython",
    "version": 3
   },
   "file_extension": ".py",
   "mimetype": "text/x-python",
   "name": "python",
   "nbconvert_exporter": "python",
   "pygments_lexer": "ipython3",
   "version": "3.7.1-final"
  },
  "orig_nbformat": 2,
  "kernelspec": {
   "name": "julia-1.4",
   "display_name": "Julia 1.4.2"
  }
 },
 "nbformat": 4,
 "nbformat_minor": 2,
 "cells": [
  {
   "cell_type": "code",
   "execution_count": 2,
   "metadata": {
    "tags": []
   },
   "outputs": [],
   "source": [
    "using Plots"
   ]
  },
  {
   "cell_type": "code",
   "execution_count": null,
   "metadata": {},
   "outputs": [],
   "source": [
    "a=randn(1000);\n",
    "plot(a)"
   ]
  },
  {
   "cell_type": "code",
   "execution_count": 23,
   "metadata": {
    "tags": []
   },
   "outputs": [],
   "source": [
    "using Statistics\n",
    "using NiLang\n",
    "using BenchmarkTools\n"
   ]
  },
  {
   "cell_type": "code",
   "execution_count": 24,
   "metadata": {},
   "outputs": [],
   "source": [
    "#提取日线沪深300指数收盘价\n",
    "a= readlines(\"F:\\\\我的坚果云\\\\julia\\\\策略微分\\\\data.txt\");\n",
    "b=parse.(Float64,a);\n"
   ]
  },
  {
   "cell_type": "code",
   "execution_count": 25,
   "metadata": {
    "tags": []
   },
   "outputs": [],
   "source": [
    "#EMA权重\n",
    "bili=0.0952;\n",
    "n=length(b);\n",
    "ma=zeros(n,1);\n",
    "ma[1]=b[1];\n",
    "pos=zeros(n,1);\n",
    "#单位净值\n",
    "jinzhi=ones(n,1);\n",
    "for i =2:n\n",
    "    if pos[i-1]>0\n",
    "        #如果信号为正,做多\n",
    "        jinzhi[i]=jinzhi[i-1]*(b[i]/b[i-1]);\n",
    "    elseif pos[i-1]<0\n",
    "        #如果信号为负,做空\n",
    "        jinzhi[i]=jinzhi[i-1]*(2-b[i]/b[i-1]);\n",
    "    else\n",
    "        #如果信号为0,保持不变\n",
    "        jinzhi[i]=jinzhi[i-1];\n",
    "    end\n",
    "    #计算EMA\n",
    "    ma[i]=b[i]*bili+(1-bili)*ma[i-1];\n",
    "\n",
    "    pos[i] = -tanh(ma[i]-b[i]);\n",
    "\n",
    "end\n"
   ]
  },
  {
   "cell_type": "code",
   "execution_count": 26,
   "metadata": {},
   "outputs": [
    {
     "output_type": "error",
     "ename": "MethodError",
     "evalue": "MethodError: no method matching get_color_palette(::Symbol, ::RGBA{Float64}, ::Int64)\nClosest candidates are:\n  get_color_palette(::Any, ::Any) at C:\\Users\\lihan\\.julia\\packages\\PlotUtils\\nCtbM\\src\\colorschemes.jl:328\n  get_color_palette(!Matched::ColorGradient, ::Any) at C:\\Users\\lihan\\.julia\\packages\\PlotUtils\\nCtbM\\src\\colorschemes.jl:329",
     "traceback": [
      "MethodError: no method matching get_color_palette(::Symbol, ::RGBA{Float64}, ::Int64)\nClosest candidates are:\n  get_color_palette(::Any, ::Any) at C:\\Users\\lihan\\.julia\\packages\\PlotUtils\\nCtbM\\src\\colorschemes.jl:328\n  get_color_palette(!Matched::ColorGradient, ::Any) at C:\\Users\\lihan\\.julia\\packages\\PlotUtils\\nCtbM\\src\\colorschemes.jl:329",
      "",
      "Stacktrace:",
      " [1] _update_subplot_colors(::Plots.Subplot{Plots.GRBackend}) at C:\\Users\\lihan\\.julia\\packages\\Plots\\WwFyB\\src\\args.jl:1436",
      " [2] _update_subplot_args(::Plots.Plot{Plots.GRBackend}, ::Plots.Subplot{Plots.GRBackend}, ::Dict{Symbol,Any}, ::Int64, ::Bool) at C:\\Users\\lihan\\.julia\\packages\\Plots\\WwFyB\\src\\args.jl:1523",
      " [3] _subplot_setup(::Plots.Plot{Plots.GRBackend}, ::Dict{Symbol,Any}, ::Array{Dict{Symbol,Any},1}) at C:\\Users\\lihan\\.julia\\packages\\Plots\\WwFyB\\src\\pipeline.jl:297",
      " [4] _plot!(::Plots.Plot{Plots.GRBackend}, ::Dict{Symbol,Any}, ::Tuple{Array{Float64,2}}) at C:\\Users\\lihan\\.julia\\packages\\Plots\\WwFyB\\src\\plot.jl:206",
      " [5] plot(::Array{Float64,2}; kw::Base.Iterators.Pairs{Union{},Union{},Tuple{},NamedTuple{(),Tuple{}}}) at C:\\Users\\lihan\\.julia\\packages\\Plots\\WwFyB\\src\\plot.jl:57",
      " [6] plot(::Array{Float64,2}) at C:\\Users\\lihan\\.julia\\packages\\Plots\\WwFyB\\src\\plot.jl:51",
      " [7] top-level scope at In[26]:1"
     ]
    }
   ],
   "source": [
    "plot(jinzhi)"
   ]
  },
  {
   "cell_type": "code",
   "execution_count": 27,
   "metadata": {},
   "outputs": [
    {
     "output_type": "error",
     "ename": "MethodError",
     "evalue": "MethodError: no method matching get_color_palette(::Symbol, ::RGBA{Float64}, ::Int64)\nClosest candidates are:\n  get_color_palette(::Any, ::Any) at C:\\Users\\lihan\\.julia\\packages\\PlotUtils\\nCtbM\\src\\colorschemes.jl:328\n  get_color_palette(!Matched::ColorGradient, ::Any) at C:\\Users\\lihan\\.julia\\packages\\PlotUtils\\nCtbM\\src\\colorschemes.jl:329",
     "traceback": [
      "MethodError: no method matching get_color_palette(::Symbol, ::RGBA{Float64}, ::Int64)\nClosest candidates are:\n  get_color_palette(::Any, ::Any) at C:\\Users\\lihan\\.julia\\packages\\PlotUtils\\nCtbM\\src\\colorschemes.jl:328\n  get_color_palette(!Matched::ColorGradient, ::Any) at C:\\Users\\lihan\\.julia\\packages\\PlotUtils\\nCtbM\\src\\colorschemes.jl:329",
      "",
      "Stacktrace:",
      " [1] _update_subplot_colors(::Plots.Subplot{Plots.GRBackend}) at C:\\Users\\lihan\\.julia\\packages\\Plots\\WwFyB\\src\\args.jl:1436",
      " [2] _update_subplot_args(::Plots.Plot{Plots.GRBackend}, ::Plots.Subplot{Plots.GRBackend}, ::Dict{Symbol,Any}, ::Int64, ::Bool) at C:\\Users\\lihan\\.julia\\packages\\Plots\\WwFyB\\src\\args.jl:1523",
      " [3] _subplot_setup(::Plots.Plot{Plots.GRBackend}, ::Dict{Symbol,Any}, ::Array{Dict{Symbol,Any},1}) at C:\\Users\\lihan\\.julia\\packages\\Plots\\WwFyB\\src\\pipeline.jl:297",
      " [4] _plot!(::Plots.Plot{Plots.GRBackend}, ::Dict{Symbol,Any}, ::Tuple{Array{Float64,1}}) at C:\\Users\\lihan\\.julia\\packages\\Plots\\WwFyB\\src\\plot.jl:206",
      " [5] plot(::Array{Float64,1}; kw::Base.Iterators.Pairs{Union{},Union{},Tuple{},NamedTuple{(),Tuple{}}}) at C:\\Users\\lihan\\.julia\\packages\\Plots\\WwFyB\\src\\plot.jl:57",
      " [6] plot(::Array{Float64,1}) at C:\\Users\\lihan\\.julia\\packages\\Plots\\WwFyB\\src\\plot.jl:51",
      " [7] top-level scope at In[27]:1"
     ]
    }
   ],
   "source": [
    "plot(b)\n",
    "plot!(ma)"
   ]
  },
  {
   "cell_type": "code",
   "execution_count": 28,
   "metadata": {},
   "outputs": [],
   "source": [
    "@i function jin(out::T,b::AbstractVector{T},ma::AbstractVector{T},jinzhi::AbstractVector{T},pos::AbstractVector{T},bili::T) where T\n",
    "    @routine begin\n",
    "        for i =2:length(b)\n",
    "\n",
    "            if (pos[i-1]!=0, ~)\n",
    "                @routine begin\n",
    "                    # use `@zeros TYPE vars...` to add ancillas\n",
    "                    @zeros T anc1 anc2\n",
    "                    # !note: one operations a time, it should be `y += f(x)` or `y += x`.\n",
    "                    anc1 += b[i] / b[i-1]\n",
    "                    anc1 -= 1.0\n",
    "                    anc2 += anc1 * pos[i-1]\n",
    "                    #anc2 += 1.0\n",
    "                end\n",
    "\n",
    "                jinzhi[i] += anc2\n",
    "                jinzhi[i] -= 0.0001\n",
    "                ~@routine\n",
    "            end\n",
    "\n",
    "            ma[i] += b[i] * bili\n",
    "            bili -= 1.0\n",
    "            ma[i] -= bili * ma[i-1]\n",
    "            bili += 1.0\n",
    "\n",
    "\n",
    "            # the relaxed version\n",
    "            ma[i] -= b[i]\n",
    "            pos[i] -= tanh(ma[i])\n",
    "            ma[i] += b[i]\n",
    "        end\n",
    "        @zeros T var varsum mean sum std\n",
    "        NiLang.i_var_mean_sum(var, varsum, mean, sum, jinzhi)\n",
    "        std += sqrt(var)\n",
    "    end\n",
    "    #计算夏普率\n",
    "    out += mean/std \n",
    "    ~@routine\n",
    "end\n",
    "    "
   ]
  },
  {
   "cell_type": "code",
   "execution_count": 29,
   "metadata": {},
   "outputs": [
    {
     "output_type": "execute_result",
     "data": {
      "text/plain": "true"
     },
     "metadata": {},
     "execution_count": 29
    }
   ],
   "source": [
    "bili=0.0952;\n",
    "n=length(b);\n",
    "ma=zeros(n);\n",
    "ma[1]=b[1];\n",
    "jinzhi=zeros(n);\n",
    "#jinzhi[1]=1.0;\n",
    "pos=zeros(n);\n",
    "out=0.0;\n",
    "# check the reversibility\n",
    "check_inv(jin, (out,b,ma,jinzhi,pos,bili))\n"
   ]
  },
  {
   "cell_type": "code",
   "execution_count": 30,
   "metadata": {},
   "outputs": [
    {
     "output_type": "execute_result",
     "data": {
      "text/plain": "false"
     },
     "metadata": {},
     "execution_count": 30
    }
   ],
   "source": [
    "# check the gradients with numeric gradients\n",
    "NiLang.AD.check_grad(jin, (out,b,ma,jinzhi,pos,bili); iloss=1)"
   ]
  },
  {
   "cell_type": "code",
   "execution_count": 31,
   "metadata": {},
   "outputs": [
    {
     "output_type": "execute_result",
     "data": {
      "text/plain": "(0.04168701867765715, [1316.4600000000003, 1302.0800000000002, 1292.7100000000003, 1272.6500000000003, 1281.2600000000002, 1249.8100000000002, 1205.1500000000003, 1186.4300000000003, 1201.8800000000003, 1152.1500000000003  …  4806.69, 4744.47, 4516.25, 4544.7, 4680.3, 4691.04, 4714.45, 4712.44, 4505.59, 4512.86], [1316.4600000000003, 5.400124791776761e-13, 8.526512829121202e-14, 1.8474111129762605e-13, 2.7000623958883807e-13, 2.4158453015843406e-13, 2.5579538487363607e-13, 2.2737367544323206e-13, 1.8474111129762605e-13, 3.268496584496461e-13  …  -6.252776074688882e-13, 4.547473508864641e-13, 4.433786671143025e-12, -7.958078640513122e-12, 2.2737367544323206e-12, 1.0231815394945443e-11, -3.979039320256561e-13, 1.1368683772161603e-12, -4.547473508864641e-13, 1.1937117960769683e-12], [0.0, -1.0842021724855044e-19, -8.673617379884035e-19, 0.0, 8.673617379884035e-19, 3.469446951953614e-18, -1.3877787807814457e-17, 0.0, 0.0, -1.3877787807814457e-17  …  0.0, 0.0, -1.3877787807814457e-17, 2.6020852139652106e-18, 3.469446951953614e-18, -4.336808689942018e-19, 8.673617379884035e-19, 1.3173056395698879e-17, -1.3877787807814457e-17, -3.924811864397526e-17], [0.0, 0.0, 0.0, 0.0, 0.0, 0.0, 0.0, 0.0, 0.0, 0.0  …  0.0, 0.0, 0.0, 0.0, 0.0, 0.0, 0.0, 0.0, 0.0, 0.0], 0.09519999999999995)"
     },
     "metadata": {},
     "execution_count": 31
    }
   ],
   "source": [
    "out,b,ma,jinzhi,pos,bili=jin(out,b,ma,jinzhi,pos,bili)\n"
   ]
  },
  {
   "cell_type": "code",
   "execution_count": 32,
   "metadata": {},
   "outputs": [
    {
     "output_type": "execute_result",
     "data": {
      "text/plain": "(0.0, [1316.4600000000003, 1302.0800000000002, 1292.7100000000003, 1272.6500000000003, 1281.2600000000002, 1249.8100000000002, 1205.1500000000003, 1186.4300000000003, 1201.8800000000003, 1152.1500000000003  …  4806.69, 4744.47, 4516.25, 4544.7, 4680.3, 4691.04, 4714.45, 4712.44, 4505.59, 4512.86], [1316.4600000000003, 5.400124791776761e-13, 8.526512829121202e-14, 1.8474111129762605e-13, 2.7000623958883807e-13, 2.4158453015843406e-13, 2.5579538487363607e-13, 2.2737367544323206e-13, 1.8474111129762605e-13, 3.268496584496461e-13  …  -6.252776074688882e-13, 4.547473508864641e-13, 4.433786671143025e-12, -7.958078640513122e-12, 2.2737367544323206e-12, 1.0231815394945443e-11, -3.979039320256561e-13, 1.1368683772161603e-12, -4.547473508864641e-13, 1.1937117960769683e-12], [0.0, -1.0842021724855044e-19, -8.673617379884035e-19, 0.0, 8.673617379884035e-19, 3.469446951953614e-18, -1.3877787807814457e-17, 0.0, 0.0, -1.3877787807814457e-17  …  0.0, 0.0, -1.3877787807814457e-17, 2.6020852139652106e-18, 3.469446951953614e-18, -4.336808689942018e-19, 8.673617379884035e-19, 1.3173056395698879e-17, -1.3877787807814457e-17, -3.924811864397526e-17], [0.0, 0.0, 0.0, 0.0, 0.0, 0.0, 0.0, 0.0, 0.0, 0.0  …  0.0, 0.0, 0.0, 0.0, 0.0, 0.0, 0.0, 0.0, 0.0, 0.0], 0.09519999999999995)"
     },
     "metadata": {},
     "execution_count": 32
    }
   ],
   "source": [
    "out,b,ma,jinzhi,pos,bili=(~jin)(out,b,ma,jinzhi,pos,bili)"
   ]
  },
  {
   "cell_type": "code",
   "execution_count": 33,
   "metadata": {},
   "outputs": [
    {
     "output_type": "execute_result",
     "data": {
      "text/plain": "(1.0, [0.0, 9.70553516963622e-6, -6.847015751776566e-7, 3.938910345528847e-7, -1.6093969756637697e-6, -9.251139446543512e-7, 1.8546344681908925e-7, 4.963987894739892e-7, -2.7948391355946037e-6, 7.711718381583639e-7  …  -1.3863729431922025e-8, -1.351696886891432e-7, 2.2754401660079914e-7, 1.114480999407906e-7, -1.2583705746869063e-7, 1.1806265842064889e-8, -2.350066872371062e-8, -1.734595017413792e-7, 6.161654779227228e-6, -2.9927813108849022e-6], [-3.319811477528266e-6, -3.6691108283910985e-6, -4.055162279275141e-6, -4.481832757819563e-6, -4.953396063018968e-6, -5.474575666466587e-6, -6.050592027482965e-6, -6.687214884486035e-6, -7.390821048282531e-6, -8.168458276174327e-6  …  0.0, 0.0, 0.0, 0.0, 0.0, 0.0, 0.0, 0.0, 0.0, 0.0], [0.01342644790536296, 0.01342644790536296, 0.01318709562806275, 0.012906409865163098, 0.013658016448535551, 0.012601885542665298, 0.01222454140502435, 0.012905885438928196, 0.013869058369931147, 0.012034190584426771  …  0.013751413315478711, 0.013866434148782872, 0.015052299689510794, 0.013217341234038404, 0.012423428113392226, 0.01335242040449476, 0.013261497161935452, 0.013444201514609306, 0.0149103696871804, 0.013484245546509907], [0.0, -9.489669301037266e-5, -0.0002002789348695154, 9.240209140131973e-5, -0.000309327771347599, -0.0004368248126902368, -0.00020047145618116944, 0.0001806064848456604, -0.000497936813794674, -3.0941214064916015e-5  …  -0.0001794934836108135, -0.0007240504914437567, 8.326229905527495e-5, 0.00037067723990054054, 3.064012886872029e-5, 6.617970611227041e-5, -5.731918897085668e-6, -0.0006544825970820343, 2.17575201301332e-5, 0.0], -0.33799731218499274)"
     },
     "metadata": {},
     "execution_count": 33
    }
   ],
   "source": [
    "gout,gb,gma,gjinzhi,gpos,gbili= NiLang.AD.gradient(Val(1), jin, (out,b,ma,jinzhi,pos,bili))"
   ]
  },
  {
   "cell_type": "code",
   "execution_count": 34,
   "metadata": {},
   "outputs": [
    {
     "output_type": "execute_result",
     "data": {
      "text/plain": "BenchmarkTools.Trial: \n  memory estimate:  423.64 KiB\n  allocs estimate:  34\n  --------------\n  minimum time:     734.200 μs (0.00% GC)\n  median time:      896.300 μs (0.00% GC)\n  mean time:        970.848 μs (4.36% GC)\n  maximum time:     9.895 ms (90.31% GC)\n  --------------\n  samples:          5130\n  evals/sample:     1"
     },
     "metadata": {},
     "execution_count": 34
    }
   ],
   "source": [
    " @benchmark gout,gb,gma,gjinzhi,gpos,gbili= NiLang.AD.gradient(Val(1), jin, (out,b,ma,jinzhi,pos,bili))"
   ]
  },
  {
   "cell_type": "code",
   "execution_count": 35,
   "metadata": {
    "tags": []
   },
   "outputs": [
    {
     "output_type": "stream",
     "name": "stdout",
     "text": "1 0.6617609059247126\n2 0.6619451499615379\n3 0.6621415673850978\n4 0.6623514583660971\n5 0.6625760205737918\n6 0.6628162542615275\n7 0.6630728606412326\n8 0.6633461477808615\n9 0.6636359626582584\n10 0.6639416686421148\n11 0.6642621827581908\n12 0.6645960767733257\n13 0.6649417330724504\n14 0.6652975349334649\n15 0.665662065228186\n16 0.6660342895446228\n17 0.6664137079622089\n18 0.666800470924131\n19 0.6671954654022679\n20 0.6676003857490003\n21 0.6680178090691462\n22 0.6684512990620521\n23 0.6689055677972543\n24 0.6693867360021155\n25 0.669902756396515\n26 0.6704641159902305\n27 0.6710850448520649\n28 0.6717857096853462\n29 0.6725964619297293\n30 0.673566678646268\n31 0.674784512907802\n32 0.6764230002230078\n33 0.6788369023231836\n34 0.6825909340704163\n35 0.6874746552402523\n36 0.6916472062393568\n37 0.6948566564420049\n38 0.6976835260375996\n39 0.700336297041418\n40 0.7028288331679473\n41 0.7051129282474582\n42 0.7071400492705073\n43 0.7088837971389429\n44 0.710341381740758\n45 0.7115285421203396\n46 0.7124736243936723\n47 0.7132115992552089\n48 0.7137787296913959\n49 0.7142088416763159\n50 0.7145314094541761\n51 0.7147709928559671\n52 0.7149474377490032\n53 0.7150764190254595\n54 0.7151700924055672\n55 0.7152377398320933\n56 0.715286355057371\n57 0.7153211474667951\n58 0.7153459592128925\n59 0.7153636003044471\n60 0.7153761112803257\n61 0.7153849650370188\n62 0.7153912193823413\n63 0.7153956308056102\n64 0.7153987383945\n65 0.7154009251748611\n66 0.7154024626152247\n67 0.7154035427196511\n68 0.715404301053291\n69 0.7154048331937841\n70 0.7154052064446442\n71 0.7154054681514449\n72 0.715405651591822\n73 0.7154057801390125\n74 0.7154058701998729\n75 0.7154059332855841\n76 0.7154059774690618\n77 0.7154060084100194\n78 0.7154060300751631\n79 0.715406045243937\n80 0.7154060558635182\n81 0.7154060632977853\n82 0.7154060685018613\n83 0.7154060721446397\n84 0.7154060746944376\n85 0.7154060764791308\n86 0.715406077728273\n87 0.715406078602557\n88 0.7154060792144532\n89 0.7154060796427152\n90 0.7154060799424364\n91 0.7154060801522009\n92 0.7154060802990073\n93 0.7154060804017537\n94 0.715406080473656\n95 0.7154060805239846\n96 0.7154060805592026\n97 0.7154060805838476\n98 0.7154060806010959\n99 0.7154060806131639\n100 0.7154060806216178\n0.09134216170845985"
    },
    {
     "output_type": "error",
     "ename": "MethodError",
     "evalue": "MethodError: no method matching get_color_palette(::Symbol, ::RGBA{Float64}, ::Int64)\nClosest candidates are:\n  get_color_palette(::Any, ::Any) at C:\\Users\\lihan\\.julia\\packages\\PlotUtils\\nCtbM\\src\\colorschemes.jl:328\n  get_color_palette(!Matched::ColorGradient, ::Any) at C:\\Users\\lihan\\.julia\\packages\\PlotUtils\\nCtbM\\src\\colorschemes.jl:329",
     "traceback": [
      "MethodError: no method matching get_color_palette(::Symbol, ::RGBA{Float64}, ::Int64)\nClosest candidates are:\n  get_color_palette(::Any, ::Any) at C:\\Users\\lihan\\.julia\\packages\\PlotUtils\\nCtbM\\src\\colorschemes.jl:328\n  get_color_palette(!Matched::ColorGradient, ::Any) at C:\\Users\\lihan\\.julia\\packages\\PlotUtils\\nCtbM\\src\\colorschemes.jl:329",
      "",
      "Stacktrace:",
      " [1] _update_subplot_colors(::Plots.Subplot{Plots.GRBackend}) at C:\\Users\\lihan\\.julia\\packages\\Plots\\WwFyB\\src\\args.jl:1436",
      " [2] _update_subplot_args(::Plots.Plot{Plots.GRBackend}, ::Plots.Subplot{Plots.GRBackend}, ::Dict{Symbol,Any}, ::Int64, ::Bool) at C:\\Users\\lihan\\.julia\\packages\\Plots\\WwFyB\\src\\args.jl:1523",
      " [3] _subplot_setup(::Plots.Plot{Plots.GRBackend}, ::Dict{Symbol,Any}, ::Array{Dict{Symbol,Any},1}) at C:\\Users\\lihan\\.julia\\packages\\Plots\\WwFyB\\src\\pipeline.jl:297",
      " [4] _plot!(::Plots.Plot{Plots.GRBackend}, ::Dict{Symbol,Any}, ::Tuple{Array{Any,1}}) at C:\\Users\\lihan\\.julia\\packages\\Plots\\WwFyB\\src\\plot.jl:206",
      " [5] plot(::Array{Any,1}; kw::Base.Iterators.Pairs{Union{},Union{},Tuple{},NamedTuple{(),Tuple{}}}) at C:\\Users\\lihan\\.julia\\packages\\Plots\\WwFyB\\src\\plot.jl:57",
      " [6] plot(::Array{Any,1}) at C:\\Users\\lihan\\.julia\\packages\\Plots\\WwFyB\\src\\plot.jl:51",
      " [7] top-level scope at In[35]:17"
     ]
    }
   ],
   "source": [
    "bili=0.0952;\n",
    "steps=0.0001;\n",
    "N=100;\n",
    "sharpe=[];\n",
    "for i=1:N\n",
    "\n",
    "    out,b,ma,jinzhi,pos,bili=jin(out,b,ma,jinzhi,pos,bili);\n",
    "    println(i,\" \",out*sqrt(252))\n",
    "    push!(sharpe,out*sqrt(252))\n",
    "    out,b,ma,jinzhi,pos,bili=(~jin)(out,b,ma,jinzhi,pos,bili);\n",
    "    gout,gb,gma,gjinzhi,gpos,gbili= NiLang.AD.gradient(Val(1), jin, (out,b,ma,jinzhi,pos,bili));\n",
    "    bili+=gbili*steps;\n",
    "\n",
    "end\n",
    "\n",
    "print(bili)\n",
    "plot(sharpe)\n",
    "\n",
    "\n"
   ]
  },
  {
   "cell_type": "code",
   "execution_count": 36,
   "metadata": {},
   "outputs": [],
   "source": [
    "@i function r_axpy!(a::T, x::AbstractVector{T}, y!::AbstractVector{T}) where T\n",
    "    @safe @assert length(x) == length(y!)\n",
    "    for i=1:length(x)\n",
    "        y![i] += a * x[i]\n",
    "    end\n",
    "end\n",
    "\n",
    "@i function r_loss(out!, a, x, y!, z)\n",
    "    r_axpy!(a, x, y!)\n",
    "    for i=1:length(z)\n",
    "    \tout! += z[i] * y![i]\n",
    "    end\n",
    "end"
   ]
  },
  {
   "cell_type": "code",
   "execution_count": 37,
   "metadata": {
    "tags": []
   },
   "outputs": [],
   "source": [
    "using Zygote\n"
   ]
  },
  {
   "cell_type": "code",
   "execution_count": 38,
   "metadata": {},
   "outputs": [
    {
     "output_type": "execute_result",
     "data": {
      "text/plain": "jin2 (generic function with 1 method)"
     },
     "metadata": {},
     "execution_count": 38
    }
   ],
   "source": [
    "\n",
    "function jin2(b,bili) \n",
    "    ma=Zygote.Buffer(b, length(b), 1);\n",
    "    ma[1]=b[1];\n",
    "    pos=Zygote.Buffer(b, length(b), 1);\n",
    "    pos[1]=0;\n",
    "    ret=Zygote.Buffer(b, length(b), 1);\n",
    "    ret[1]=0;\n",
    "    for i =2:length(b)\n",
    "        ret[i]=(b[i]/b[i-1]-1)*pos[i-1];\n",
    "        ret[i]-=0.0001;\n",
    "        ma[i]=b[i]*bili+(1-bili)*ma[i-1];\n",
    "        pos[i] = -tanh(ma[i]-b[i]);\n",
    "    end\n",
    "    a=copy(ret);\n",
    "    return mean(a)/std(a)\n",
    "end\n"
   ]
  },
  {
   "cell_type": "code",
   "execution_count": 39,
   "metadata": {},
   "outputs": [
    {
     "output_type": "execute_result",
     "data": {
      "text/plain": "0.041685675864344206"
     },
     "metadata": {},
     "execution_count": 39
    }
   ],
   "source": [
    "bili=0.0952;\n",
    "jin2(b, bili)\n"
   ]
  },
  {
   "cell_type": "code",
   "execution_count": 40,
   "metadata": {},
   "outputs": [
    {
     "output_type": "execute_result",
     "data": {
      "text/plain": "(-0.3379971081409374,)"
     },
     "metadata": {},
     "execution_count": 40
    }
   ],
   "source": [
    "gradient(x -> jin2(b, x), bili)"
   ]
  },
  {
   "cell_type": "code",
   "execution_count": 41,
   "metadata": {},
   "outputs": [
    {
     "output_type": "execute_result",
     "data": {
      "text/plain": "BenchmarkTools.Trial: \n  memory estimate:  1.23 GiB\n  allocs estimate:  757705\n  --------------\n  minimum time:     588.180 ms (19.86% GC)\n  median time:      716.734 ms (21.70% GC)\n  mean time:        690.860 ms (21.32% GC)\n  maximum time:     766.476 ms (21.57% GC)\n  --------------\n  samples:          8\n  evals/sample:     1"
     },
     "metadata": {},
     "execution_count": 41
    }
   ],
   "source": [
    "@benchmark gradient(x -> jin2(b, x), bili)"
   ]
  },
  {
   "cell_type": "code",
   "execution_count": null,
   "metadata": {},
   "outputs": [],
   "source": []
  }
 ]
}